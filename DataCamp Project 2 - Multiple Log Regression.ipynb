{
 "cells": [
  {
   "cell_type": "markdown",
   "metadata": {
    "dc": {
     "key": "2"
    },
    "deletable": false,
    "editable": false,
    "run_control": {
     "frozen": true
    },
    "tags": [
     "context"
    ]
   },
   "source": [
    "## 1. A new look at an old research study\n",
    "<p>In 1986, a group of urologists in London published a research paper in <em>The British Medical Journal</em> that compared the effectiveness of two different methods to remove kidney stones. Treatment A was open surgery (invasive), and treatment B was percutaneous nephrolithotomy (less invasive). When they looked at the results from 700 patients, treatment B had a higher success rate. However, when they only looked at the subgroup of patients different kidney stone sizes, treatment A had a better success rate. What is going on here? This known statistical phenomenon is called Simpon’s paradox. Simpon's paradox occurs when trends appear in subgroups but disappear or reverse when subgroups are combined. </p>\n",
    "<p>In this notebook, we are going to explore Simpon’s paradox using multiple regression and other statistical tools. Let's dive in now!\n",
    "<img src=\"https://assets.datacamp.com/production/project_697/img/img1.jpg\" height=\"500\" width=\"500\"></p>"
   ]
  },
  {
   "cell_type": "code",
   "execution_count": 11,
   "metadata": {
    "dc": {
     "key": "2"
    },
    "scrolled": false,
    "tags": [
     "sample_code"
    ]
   },
   "outputs": [
    {
     "name": "stderr",
     "output_type": "stream",
     "text": [
      "Parsed with column specification:\n",
      "cols(\n",
      "  treatment = \u001b[31mcol_character()\u001b[39m,\n",
      "  stone_size = \u001b[31mcol_character()\u001b[39m,\n",
      "  success = \u001b[32mcol_double()\u001b[39m\n",
      ")\n"
     ]
    },
    {
     "data": {
      "text/html": [
       "<table>\n",
       "<caption>A tibble: 6 × 3</caption>\n",
       "<thead>\n",
       "\t<tr><th scope=col>treatment</th><th scope=col>stone_size</th><th scope=col>success</th></tr>\n",
       "\t<tr><th scope=col>&lt;chr&gt;</th><th scope=col>&lt;chr&gt;</th><th scope=col>&lt;dbl&gt;</th></tr>\n",
       "</thead>\n",
       "<tbody>\n",
       "\t<tr><td>B</td><td>large</td><td>1</td></tr>\n",
       "\t<tr><td>A</td><td>large</td><td>1</td></tr>\n",
       "\t<tr><td>A</td><td>large</td><td>0</td></tr>\n",
       "\t<tr><td>A</td><td>large</td><td>1</td></tr>\n",
       "\t<tr><td>A</td><td>large</td><td>1</td></tr>\n",
       "\t<tr><td>B</td><td>large</td><td>1</td></tr>\n",
       "</tbody>\n",
       "</table>\n"
      ],
      "text/latex": [
       "A tibble: 6 × 3\n",
       "\\begin{tabular}{r|lll}\n",
       " treatment & stone\\_size & success\\\\\n",
       " <chr> & <chr> & <dbl>\\\\\n",
       "\\hline\n",
       "\t B & large & 1\\\\\n",
       "\t A & large & 1\\\\\n",
       "\t A & large & 0\\\\\n",
       "\t A & large & 1\\\\\n",
       "\t A & large & 1\\\\\n",
       "\t B & large & 1\\\\\n",
       "\\end{tabular}\n"
      ],
      "text/markdown": [
       "\n",
       "A tibble: 6 × 3\n",
       "\n",
       "| treatment &lt;chr&gt; | stone_size &lt;chr&gt; | success &lt;dbl&gt; |\n",
       "|---|---|---|\n",
       "| B | large | 1 |\n",
       "| A | large | 1 |\n",
       "| A | large | 0 |\n",
       "| A | large | 1 |\n",
       "| A | large | 1 |\n",
       "| B | large | 1 |\n",
       "\n"
      ],
      "text/plain": [
       "  treatment stone_size success\n",
       "1 B         large      1      \n",
       "2 A         large      1      \n",
       "3 A         large      0      \n",
       "4 A         large      1      \n",
       "5 A         large      1      \n",
       "6 B         large      1      "
      ]
     },
     "metadata": {},
     "output_type": "display_data"
    }
   ],
   "source": [
    "# Load the readr and dplyr packages\n",
    "library(readr)\n",
    "library(dplyr)\n",
    "\n",
    "# Read datasets kidney_stone_data.csv into data\n",
    "data <- read_csv(\"datasets/kidney_stone_data.csv\")\n",
    "\n",
    "# Take a look at the first few rows of the dataset\n",
    "head(data)"
   ]
  },
  {
   "cell_type": "markdown",
   "metadata": {
    "dc": {
     "key": "9"
    },
    "deletable": false,
    "editable": false,
    "run_control": {
     "frozen": true
    },
    "tags": [
     "context"
    ]
   },
   "source": [
    "## 2. Recreate the Treatment X Success summary table\n",
    "<p>The data contains three columns: <code>treatment</code> (A or B), <code>stone_size</code> (large or small) and <code>success</code> (0 = Failure or 1 = \n",
    "Success). To start, we want to know which treatment had a higher success rate regardless of stone size. Let's create a table with the number of successes and frequency of success by each treatment using the tidyverse syntax.</p>"
   ]
  },
  {
   "cell_type": "code",
   "execution_count": 2,
   "metadata": {
    "dc": {
     "key": "9"
    },
    "tags": [
     "sample_code"
    ]
   },
   "outputs": [
    {
     "name": "stderr",
     "output_type": "stream",
     "text": [
      "Warning message:\n",
      "\"package 'bindrcpp' was built under R version 3.5.2\""
     ]
    },
    {
     "data": {
      "text/html": [
       "<table>\n",
       "<caption>A tibble: 4 × 4</caption>\n",
       "<thead>\n",
       "\t<tr><th scope=col>treatment</th><th scope=col>success</th><th scope=col>N</th><th scope=col>Freq</th></tr>\n",
       "\t<tr><th scope=col>&lt;chr&gt;</th><th scope=col>&lt;dbl&gt;</th><th scope=col>&lt;int&gt;</th><th scope=col>&lt;dbl&gt;</th></tr>\n",
       "</thead>\n",
       "<tbody>\n",
       "\t<tr><td>A</td><td>0</td><td> 77</td><td>0.220</td></tr>\n",
       "\t<tr><td>A</td><td>1</td><td>273</td><td>0.780</td></tr>\n",
       "\t<tr><td>B</td><td>0</td><td> 61</td><td>0.174</td></tr>\n",
       "\t<tr><td>B</td><td>1</td><td>289</td><td>0.826</td></tr>\n",
       "</tbody>\n",
       "</table>\n"
      ],
      "text/latex": [
       "A tibble: 4 × 4\n",
       "\\begin{tabular}{r|llll}\n",
       " treatment & success & N & Freq\\\\\n",
       " <chr> & <dbl> & <int> & <dbl>\\\\\n",
       "\\hline\n",
       "\t A & 0 &  77 & 0.220\\\\\n",
       "\t A & 1 & 273 & 0.780\\\\\n",
       "\t B & 0 &  61 & 0.174\\\\\n",
       "\t B & 1 & 289 & 0.826\\\\\n",
       "\\end{tabular}\n"
      ],
      "text/markdown": [
       "\n",
       "A tibble: 4 × 4\n",
       "\n",
       "| treatment &lt;chr&gt; | success &lt;dbl&gt; | N &lt;int&gt; | Freq &lt;dbl&gt; |\n",
       "|---|---|---|---|\n",
       "| A | 0 |  77 | 0.220 |\n",
       "| A | 1 | 273 | 0.780 |\n",
       "| B | 0 |  61 | 0.174 |\n",
       "| B | 1 | 289 | 0.826 |\n",
       "\n"
      ],
      "text/plain": [
       "  treatment success N   Freq \n",
       "1 A         0        77 0.220\n",
       "2 A         1       273 0.780\n",
       "3 B         0        61 0.174\n",
       "4 B         1       289 0.826"
      ]
     },
     "metadata": {},
     "output_type": "display_data"
    }
   ],
   "source": [
    "# Calculate the number and frequency of success and failure of each treatment \n",
    "data %>% \n",
    "  group_by(treatment, success) %>%\n",
    "  summarise(N = n()) %>% \n",
    "  mutate(Freq = round(N/sum(N), 3))"
   ]
  },
  {
   "cell_type": "markdown",
   "metadata": {
    "dc": {
     "key": "16"
    },
    "deletable": false,
    "editable": false,
    "run_control": {
     "frozen": true
    },
    "tags": [
     "context"
    ]
   },
   "source": [
    "## 3. Bringing stone size into the picture\n",
    "<p>From the treatment and success rate descriptive table, we saw that treatment B performed better on average compared to treatment A (82% vs. 78% success rate). Now, let's consider stone size and see what happens. We are going to stratify the data into small vs. large stone subcategories and compute the same success count and rate by treatment like we did in the previous task. </p>\n",
    "<p>The final table will be treatment X stone size X success.</p>"
   ]
  },
  {
   "cell_type": "code",
   "execution_count": 3,
   "metadata": {
    "dc": {
     "key": "16"
    },
    "tags": [
     "sample_code"
    ]
   },
   "outputs": [
    {
     "data": {
      "text/html": [
       "<table>\n",
       "<caption>A tibble: 8 × 5</caption>\n",
       "<thead>\n",
       "\t<tr><th scope=col>treatment</th><th scope=col>stone_size</th><th scope=col>success</th><th scope=col>N</th><th scope=col>Freq</th></tr>\n",
       "\t<tr><th scope=col>&lt;chr&gt;</th><th scope=col>&lt;chr&gt;</th><th scope=col>&lt;dbl&gt;</th><th scope=col>&lt;int&gt;</th><th scope=col>&lt;dbl&gt;</th></tr>\n",
       "</thead>\n",
       "<tbody>\n",
       "\t<tr><td>A</td><td>large</td><td>0</td><td> 71</td><td>0.270</td></tr>\n",
       "\t<tr><td>A</td><td>large</td><td>1</td><td>192</td><td>0.730</td></tr>\n",
       "\t<tr><td>A</td><td>small</td><td>0</td><td>  6</td><td>0.069</td></tr>\n",
       "\t<tr><td>A</td><td>small</td><td>1</td><td> 81</td><td>0.931</td></tr>\n",
       "\t<tr><td>B</td><td>large</td><td>0</td><td> 25</td><td>0.312</td></tr>\n",
       "\t<tr><td>B</td><td>large</td><td>1</td><td> 55</td><td>0.688</td></tr>\n",
       "\t<tr><td>B</td><td>small</td><td>0</td><td> 36</td><td>0.133</td></tr>\n",
       "\t<tr><td>B</td><td>small</td><td>1</td><td>234</td><td>0.867</td></tr>\n",
       "</tbody>\n",
       "</table>\n"
      ],
      "text/latex": [
       "A tibble: 8 × 5\n",
       "\\begin{tabular}{r|lllll}\n",
       " treatment & stone\\_size & success & N & Freq\\\\\n",
       " <chr> & <chr> & <dbl> & <int> & <dbl>\\\\\n",
       "\\hline\n",
       "\t A & large & 0 &  71 & 0.270\\\\\n",
       "\t A & large & 1 & 192 & 0.730\\\\\n",
       "\t A & small & 0 &   6 & 0.069\\\\\n",
       "\t A & small & 1 &  81 & 0.931\\\\\n",
       "\t B & large & 0 &  25 & 0.312\\\\\n",
       "\t B & large & 1 &  55 & 0.688\\\\\n",
       "\t B & small & 0 &  36 & 0.133\\\\\n",
       "\t B & small & 1 & 234 & 0.867\\\\\n",
       "\\end{tabular}\n"
      ],
      "text/markdown": [
       "\n",
       "A tibble: 8 × 5\n",
       "\n",
       "| treatment &lt;chr&gt; | stone_size &lt;chr&gt; | success &lt;dbl&gt; | N &lt;int&gt; | Freq &lt;dbl&gt; |\n",
       "|---|---|---|---|---|\n",
       "| A | large | 0 |  71 | 0.270 |\n",
       "| A | large | 1 | 192 | 0.730 |\n",
       "| A | small | 0 |   6 | 0.069 |\n",
       "| A | small | 1 |  81 | 0.931 |\n",
       "| B | large | 0 |  25 | 0.312 |\n",
       "| B | large | 1 |  55 | 0.688 |\n",
       "| B | small | 0 |  36 | 0.133 |\n",
       "| B | small | 1 | 234 | 0.867 |\n",
       "\n"
      ],
      "text/plain": [
       "  treatment stone_size success N   Freq \n",
       "1 A         large      0        71 0.270\n",
       "2 A         large      1       192 0.730\n",
       "3 A         small      0         6 0.069\n",
       "4 A         small      1        81 0.931\n",
       "5 B         large      0        25 0.312\n",
       "6 B         large      1        55 0.688\n",
       "7 B         small      0        36 0.133\n",
       "8 B         small      1       234 0.867"
      ]
     },
     "metadata": {},
     "output_type": "display_data"
    }
   ],
   "source": [
    "# Calculate number and frequency of success and failure by stone size for each treatment\n",
    "sum_data <- \n",
    "  data %>% \n",
    "  group_by(treatment, stone_size, success) %>%\n",
    "  summarise(N = n()) %>%\n",
    "  mutate(Freq = round(N/sum(N), 3))\n",
    "\n",
    "# Print out the data frame we just created\n",
    "sum_data"
   ]
  },
  {
   "cell_type": "markdown",
   "metadata": {
    "dc": {
     "key": "23"
    },
    "deletable": false,
    "editable": false,
    "run_control": {
     "frozen": true
    },
    "tags": [
     "context"
    ]
   },
   "source": [
    "## 4. When in doubt, rely on a plot\n",
    "<p>What is going on here? When stratified by stone size, treatment A had better results for both large and small stones compared to treatment B (i.e., 73% and 93% v.s. 69% and 87%). Sometimes a plot is a more efficient way to communicate hidden numerical information in the data. In this task, we are going to apply a plotting technique to reveal the hidden information.</p>"
   ]
  },
  {
   "cell_type": "code",
   "execution_count": 4,
   "metadata": {
    "dc": {
     "key": "23"
    },
    "tags": [
     "sample_code"
    ]
   },
   "outputs": [
    {
     "name": "stderr",
     "output_type": "stream",
     "text": [
      "Warning message:\n",
      "\"package 'ggplot2' was built under R version 3.5.2\""
     ]
    },
    {
     "data": {
      "image/png": "[encoded data removed]",
      "text/plain": [
       "plot without title"
      ]
     },
     "metadata": {},
     "output_type": "display_data"
    }
   ],
   "source": [
    "# Load ggplot2\n",
    "library(ggplot2)\n",
    "\n",
    "# Create a bar plot to show stone size count within each treatment\n",
    "sum_data %>%\n",
    "  ggplot(aes(x = treatment, y = N)) + \n",
    "  geom_bar(aes(fill = stone_size), stat=\"identity\") "
   ]
  },
  {
   "cell_type": "markdown",
   "metadata": {
    "dc": {
     "key": "30"
    },
    "deletable": false,
    "editable": false,
    "run_control": {
     "frozen": true
    },
    "tags": [
     "context"
    ]
   },
   "source": [
    "## 5. Identify and confirm the lurking variable\n",
    "<p>From the bar plot, we noticed an unbalanced distribution of kidney stone sizes in the two treatment options. Large kidney stone cases tended to be in treatment A, while small kidney stone cases tended to be in treatment B. Can we confirm this hypothesis with statistical testing? </p>\n",
    "<p>Let's analyze the association between stone size (i.e., case severity) and treatment assignment using a statistical test called <strong>Chi-squared</strong>. The <strong>Chi-squared</strong> test is appropriate to test associations between two categorical variables. This test result, together with the common knowledge that a more severe case would be more likely to fail regardless of treatment, will shed light on the root cause of the paradox.</p>"
   ]
  },
  {
   "cell_type": "code",
   "execution_count": 5,
   "metadata": {
    "dc": {
     "key": "30"
    },
    "tags": [
     "sample_code"
    ]
   },
   "outputs": [
    {
     "name": "stderr",
     "output_type": "stream",
     "text": [
      "Warning message:\n",
      "\"package 'broom' was built under R version 3.5.2\""
     ]
    },
    {
     "data": {
      "text/html": [
       "<table>\n",
       "<caption>A tibble: 1 × 4</caption>\n",
       "<thead>\n",
       "\t<tr><th scope=col>statistic</th><th scope=col>p.value</th><th scope=col>parameter</th><th scope=col>method</th></tr>\n",
       "\t<tr><th scope=col>&lt;dbl&gt;</th><th scope=col>&lt;dbl&gt;</th><th scope=col>&lt;int&gt;</th><th scope=col>&lt;chr&gt;</th></tr>\n",
       "</thead>\n",
       "<tbody>\n",
       "\t<tr><td>189.3557</td><td>4.395009e-43</td><td>1</td><td>Pearson's Chi-squared test with Yates' continuity correction</td></tr>\n",
       "</tbody>\n",
       "</table>\n"
      ],
      "text/latex": [
       "A tibble: 1 × 4\n",
       "\\begin{tabular}{r|llll}\n",
       " statistic & p.value & parameter & method\\\\\n",
       " <dbl> & <dbl> & <int> & <chr>\\\\\n",
       "\\hline\n",
       "\t 189.3557 & 4.395009e-43 & 1 & Pearson's Chi-squared test with Yates' continuity correction\\\\\n",
       "\\end{tabular}\n"
      ],
      "text/markdown": [
       "\n",
       "A tibble: 1 × 4\n",
       "\n",
       "| statistic &lt;dbl&gt; | p.value &lt;dbl&gt; | parameter &lt;int&gt; | method &lt;chr&gt; |\n",
       "|---|---|---|---|\n",
       "| 189.3557 | 4.395009e-43 | 1 | Pearson's Chi-squared test with Yates' continuity correction |\n",
       "\n"
      ],
      "text/plain": [
       "  statistic p.value      parameter\n",
       "1 189.3557  4.395009e-43 1        \n",
       "  method                                                      \n",
       "1 Pearson's Chi-squared test with Yates' continuity correction"
      ]
     },
     "metadata": {},
     "output_type": "display_data"
    }
   ],
   "source": [
    "# Load the broom package \n",
    "library(broom)\n",
    "\n",
    "# Run a Chi-squared test\n",
    "trt_ss <- chisq.test(data$treatment, data$stone_size)\n",
    "\n",
    "# Print out the result in tidy format \n",
    "tidy(trt_ss)"
   ]
  },
  {
   "cell_type": "markdown",
   "metadata": {
    "dc": {
     "key": "37"
    },
    "deletable": false,
    "editable": false,
    "run_control": {
     "frozen": true
    },
    "tags": [
     "context"
    ]
   },
   "source": [
    "## 6. Remove the confounding effect\n",
    "<p>After the above exercises, we are confident that stone size/case severity is indeed the lurking variable (aka, confounding variable) in this study of kidney stone treatment and success rate. The good news is that there are ways to get rid of the effect of the lurking variable. </p>\n",
    "<p>Let's practice using multiple logistic regression to remove the unwanted effect of stone size, and then tidy the output with a function from the <code>broom</code> package.</p>"
   ]
  },
  {
   "cell_type": "code",
   "execution_count": 6,
   "metadata": {
    "dc": {
     "key": "37"
    },
    "tags": [
     "sample_code"
    ]
   },
   "outputs": [
    {
     "data": {
      "text/html": [
       "<table>\n",
       "<caption>A tibble: 3 × 5</caption>\n",
       "<thead>\n",
       "\t<tr><th scope=col>term</th><th scope=col>estimate</th><th scope=col>std.error</th><th scope=col>statistic</th><th scope=col>p.value</th></tr>\n",
       "\t<tr><th scope=col>&lt;chr&gt;</th><th scope=col>&lt;dbl&gt;</th><th scope=col>&lt;dbl&gt;</th><th scope=col>&lt;dbl&gt;</th><th scope=col>&lt;dbl&gt;</th></tr>\n",
       "</thead>\n",
       "<tbody>\n",
       "\t<tr><td>(Intercept)    </td><td> 1.0332140</td><td>0.1344695</td><td> 7.683629</td><td>1.546436e-14</td></tr>\n",
       "\t<tr><td>stone_sizesmall</td><td> 1.2605654</td><td>0.2390027</td><td> 5.274272</td><td>1.332838e-07</td></tr>\n",
       "\t<tr><td>treatmentB     </td><td>-0.3572287</td><td>0.2290792</td><td>-1.559411</td><td>1.188991e-01</td></tr>\n",
       "</tbody>\n",
       "</table>\n"
      ],
      "text/latex": [
       "A tibble: 3 × 5\n",
       "\\begin{tabular}{r|lllll}\n",
       " term & estimate & std.error & statistic & p.value\\\\\n",
       " <chr> & <dbl> & <dbl> & <dbl> & <dbl>\\\\\n",
       "\\hline\n",
       "\t (Intercept)     &  1.0332140 & 0.1344695 &  7.683629 & 1.546436e-14\\\\\n",
       "\t stone\\_sizesmall &  1.2605654 & 0.2390027 &  5.274272 & 1.332838e-07\\\\\n",
       "\t treatmentB      & -0.3572287 & 0.2290792 & -1.559411 & 1.188991e-01\\\\\n",
       "\\end{tabular}\n"
      ],
      "text/markdown": [
       "\n",
       "A tibble: 3 × 5\n",
       "\n",
       "| term &lt;chr&gt; | estimate &lt;dbl&gt; | std.error &lt;dbl&gt; | statistic &lt;dbl&gt; | p.value &lt;dbl&gt; |\n",
       "|---|---|---|---|---|\n",
       "| (Intercept)     |  1.0332140 | 0.1344695 |  7.683629 | 1.546436e-14 |\n",
       "| stone_sizesmall |  1.2605654 | 0.2390027 |  5.274272 | 1.332838e-07 |\n",
       "| treatmentB      | -0.3572287 | 0.2290792 | -1.559411 | 1.188991e-01 |\n",
       "\n"
      ],
      "text/plain": [
       "  term            estimate   std.error statistic p.value     \n",
       "1 (Intercept)      1.0332140 0.1344695  7.683629 1.546436e-14\n",
       "2 stone_sizesmall  1.2605654 0.2390027  5.274272 1.332838e-07\n",
       "3 treatmentB      -0.3572287 0.2290792 -1.559411 1.188991e-01"
      ]
     },
     "metadata": {},
     "output_type": "display_data"
    }
   ],
   "source": [
    "# Run a multiple logistic regression\n",
    "m <- glm(data = data, success ~  stone_size + treatment, family = \"binomial\")\n",
    "\n",
    "# Print out model coefficient table in tidy format\n",
    "tidy(m)"
   ]
  },
  {
   "cell_type": "markdown",
   "metadata": {
    "dc": {
     "key": "44"
    },
    "deletable": false,
    "editable": false,
    "run_control": {
     "frozen": true
    },
    "tags": [
     "context"
    ]
   },
   "source": [
    "## 7. Visualize model output\n",
    "<p>We successfully fit a multiple logistic regression and pulled out the model coefficient estimates! Typically (and arbitrarily), P-values below 0.05 indicate statistical significance. Another way to examine whether a significant relationship exists or not is to look at the 95% confidence interval (CI) of the estimate. In our example, we are testing to see:</p>\n",
    "<ol>\n",
    "<li>if the effect of a small stone is the same as a big stone, and </li>\n",
    "<li>if treatment A is as effective as treatment B. </li>\n",
    "</ol>\n",
    "<p>If the 95% CI for the coefficient estimates cover <strong>zero</strong>, we cannot conclude that one is different from the other. Otherwise, there is a significant effect. </p>"
   ]
  },
  {
   "cell_type": "code",
   "execution_count": 7,
   "metadata": {
    "dc": {
     "key": "44"
    },
    "tags": [
     "sample_code"
    ]
   },
   "outputs": [
    {
     "data": {
      "image/png": "[encoded data removed]",
      "text/plain": [
       "plot without title"
      ]
     },
     "metadata": {},
     "output_type": "display_data"
    }
   ],
   "source": [
    "# Save the tidy model output into an object\n",
    "tidy_m <- tidy(m)\n",
    "\n",
    "# Plot the coefficient estimates with 95% CI for each term in the model\n",
    "tidy_m %>%\n",
    "  ggplot(aes(x = term, y = estimate)) + \n",
    "  geom_pointrange(aes(ymin = estimate - 1.96 * std.error, \n",
    "                      ymax = estimate + 1.96 * std.error)) +\n",
    "  geom_hline(yintercept = 0)"
   ]
  },
  {
   "cell_type": "markdown",
   "metadata": {
    "dc": {
     "key": "51"
    },
    "deletable": false,
    "editable": false,
    "run_control": {
     "frozen": true
    },
    "tags": [
     "context"
    ]
   },
   "source": [
    "## 8. Generate insights\n",
    "<p>Based on the coefficient estimate plot and the model output table, there is enough information to generate insights about the study. Is treatment A superior to B after taking into account the effect of stone size/severity level?</p>\n",
    "<p>Everything is in the output table from the regression model. Recall, a coefficient represents the effect size of the specific model term. A positive coefficient means that the term is positively related to the outcome. For categorical predictors, the coefficient is the effect on the outcome relative to the <code>reference category</code>. In our study, stone size large and treatment A are the reference categories.</p>"
   ]
  },
  {
   "cell_type": "code",
   "execution_count": 13,
   "metadata": {
    "dc": {
     "key": "51"
    },
    "tags": [
     "sample_code"
    ]
   },
   "outputs": [],
   "source": [
    "# Is small stone more likely to be a success after controlling for treatment option effect?\n",
    "# Options: Yes, No (as string)\n",
    "small_high_success <- \"Yes\"\n",
    "\n",
    "# Is treatment A significantly better than B?\n",
    "# Options: Yes, No (as string)\n",
    "A_B_sig <- \"No\""
   ]
  }
 ],
 "metadata": {
  "kernelspec": {
   "display_name": "R",
   "language": "R",
   "name": "ir"
  },
  "language_info": {
   "codemirror_mode": "r",
   "file_extension": ".r",
   "mimetype": "text/x-r-source",
   "name": "R",
   "pygments_lexer": "r",
   "version": "3.5.1"
  }
 },
 "nbformat": 4,
 "nbformat_minor": 2
}
